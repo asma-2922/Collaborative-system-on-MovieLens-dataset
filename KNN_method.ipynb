{
 "cells": [
  {
   "cell_type": "code",
   "execution_count": 1,
   "id": "86c23305-1e4a-4b01-8b51-7b9c0d9c659e",
   "metadata": {},
   "outputs": [],
   "source": [
    "import numpy as np\n",
    "import pandas as pd"
   ]
  },
  {
   "cell_type": "code",
   "execution_count": 2,
   "id": "42b49bce-6d56-4f67-ac24-029d6c9a62da",
   "metadata": {},
   "outputs": [],
   "source": [
    "df = pd.read_csv('./data/archive/rating.csv')"
   ]
  },
  {
   "cell_type": "code",
   "execution_count": 3,
   "id": "7729c454-b3db-4572-9990-1961b4a17189",
   "metadata": {},
   "outputs": [
    {
     "data": {
      "text/html": [
       "<div>\n",
       "<style scoped>\n",
       "    .dataframe tbody tr th:only-of-type {\n",
       "        vertical-align: middle;\n",
       "    }\n",
       "\n",
       "    .dataframe tbody tr th {\n",
       "        vertical-align: top;\n",
       "    }\n",
       "\n",
       "    .dataframe thead th {\n",
       "        text-align: right;\n",
       "    }\n",
       "</style>\n",
       "<table border=\"1\" class=\"dataframe\">\n",
       "  <thead>\n",
       "    <tr style=\"text-align: right;\">\n",
       "      <th></th>\n",
       "      <th>userId</th>\n",
       "      <th>movieId</th>\n",
       "      <th>rating</th>\n",
       "      <th>timestamp</th>\n",
       "    </tr>\n",
       "  </thead>\n",
       "  <tbody>\n",
       "    <tr>\n",
       "      <th>0</th>\n",
       "      <td>1</td>\n",
       "      <td>2</td>\n",
       "      <td>3.5</td>\n",
       "      <td>2005-04-02 23:53:47</td>\n",
       "    </tr>\n",
       "    <tr>\n",
       "      <th>1</th>\n",
       "      <td>1</td>\n",
       "      <td>29</td>\n",
       "      <td>3.5</td>\n",
       "      <td>2005-04-02 23:31:16</td>\n",
       "    </tr>\n",
       "    <tr>\n",
       "      <th>2</th>\n",
       "      <td>1</td>\n",
       "      <td>32</td>\n",
       "      <td>3.5</td>\n",
       "      <td>2005-04-02 23:33:39</td>\n",
       "    </tr>\n",
       "    <tr>\n",
       "      <th>3</th>\n",
       "      <td>1</td>\n",
       "      <td>47</td>\n",
       "      <td>3.5</td>\n",
       "      <td>2005-04-02 23:32:07</td>\n",
       "    </tr>\n",
       "    <tr>\n",
       "      <th>4</th>\n",
       "      <td>1</td>\n",
       "      <td>50</td>\n",
       "      <td>3.5</td>\n",
       "      <td>2005-04-02 23:29:40</td>\n",
       "    </tr>\n",
       "  </tbody>\n",
       "</table>\n",
       "</div>"
      ],
      "text/plain": [
       "   userId  movieId  rating            timestamp\n",
       "0       1        2     3.5  2005-04-02 23:53:47\n",
       "1       1       29     3.5  2005-04-02 23:31:16\n",
       "2       1       32     3.5  2005-04-02 23:33:39\n",
       "3       1       47     3.5  2005-04-02 23:32:07\n",
       "4       1       50     3.5  2005-04-02 23:29:40"
      ]
     },
     "execution_count": 3,
     "metadata": {},
     "output_type": "execute_result"
    }
   ],
   "source": [
    "df.head()"
   ]
  },
  {
   "cell_type": "code",
   "execution_count": 4,
   "id": "0b7d923d-d2cf-4e52-aaa5-7be65880a357",
   "metadata": {},
   "outputs": [
    {
     "data": {
      "text/plain": [
       "(20000263, 4)"
      ]
     },
     "execution_count": 4,
     "metadata": {},
     "output_type": "execute_result"
    }
   ],
   "source": [
    "df.shape"
   ]
  },
  {
   "cell_type": "code",
   "execution_count": 6,
   "id": "78f181f7-8dd0-4df7-a8b2-967438c2bbd6",
   "metadata": {},
   "outputs": [
    {
     "data": {
      "text/plain": [
       "138493"
      ]
     },
     "execution_count": 6,
     "metadata": {},
     "output_type": "execute_result"
    }
   ],
   "source": [
    "len(df['userId'].value_counts())"
   ]
  },
  {
   "cell_type": "code",
   "execution_count": 7,
   "id": "7beffd5f-6ffd-400f-b51a-e0876b6895a7",
   "metadata": {},
   "outputs": [
    {
     "data": {
      "text/plain": [
       "26744"
      ]
     },
     "execution_count": 7,
     "metadata": {},
     "output_type": "execute_result"
    }
   ],
   "source": [
    "len(df['movieId'].value_counts())"
   ]
  },
  {
   "cell_type": "code",
   "execution_count": 8,
   "id": "31de7ba0-b39a-4f42-a2f1-251b2e267f9a",
   "metadata": {},
   "outputs": [],
   "source": [
    "df = df.drop(['timestamp'], axis=1)"
   ]
  },
  {
   "cell_type": "code",
   "execution_count": 12,
   "id": "fac90e22-d328-4202-9504-e1e7eff75b0f",
   "metadata": {},
   "outputs": [
    {
     "data": {
      "text/html": [
       "<div>\n",
       "<style scoped>\n",
       "    .dataframe tbody tr th:only-of-type {\n",
       "        vertical-align: middle;\n",
       "    }\n",
       "\n",
       "    .dataframe tbody tr th {\n",
       "        vertical-align: top;\n",
       "    }\n",
       "\n",
       "    .dataframe thead th {\n",
       "        text-align: right;\n",
       "    }\n",
       "</style>\n",
       "<table border=\"1\" class=\"dataframe\">\n",
       "  <thead>\n",
       "    <tr style=\"text-align: right;\">\n",
       "      <th></th>\n",
       "      <th>userId</th>\n",
       "      <th>movieId</th>\n",
       "      <th>rating</th>\n",
       "    </tr>\n",
       "  </thead>\n",
       "  <tbody>\n",
       "    <tr>\n",
       "      <th>0</th>\n",
       "      <td>1</td>\n",
       "      <td>2</td>\n",
       "      <td>3.5</td>\n",
       "    </tr>\n",
       "    <tr>\n",
       "      <th>1</th>\n",
       "      <td>1</td>\n",
       "      <td>29</td>\n",
       "      <td>3.5</td>\n",
       "    </tr>\n",
       "    <tr>\n",
       "      <th>2</th>\n",
       "      <td>1</td>\n",
       "      <td>32</td>\n",
       "      <td>3.5</td>\n",
       "    </tr>\n",
       "    <tr>\n",
       "      <th>3</th>\n",
       "      <td>1</td>\n",
       "      <td>47</td>\n",
       "      <td>3.5</td>\n",
       "    </tr>\n",
       "    <tr>\n",
       "      <th>4</th>\n",
       "      <td>1</td>\n",
       "      <td>50</td>\n",
       "      <td>3.5</td>\n",
       "    </tr>\n",
       "  </tbody>\n",
       "</table>\n",
       "</div>"
      ],
      "text/plain": [
       "   userId  movieId  rating\n",
       "0       1        2     3.5\n",
       "1       1       29     3.5\n",
       "2       1       32     3.5\n",
       "3       1       47     3.5\n",
       "4       1       50     3.5"
      ]
     },
     "execution_count": 12,
     "metadata": {},
     "output_type": "execute_result"
    }
   ],
   "source": [
    "df.head()"
   ]
  },
  {
   "cell_type": "code",
   "execution_count": 17,
   "id": "7ea67fcf-1a42-4b24-a9b8-6cd77a4608aa",
   "metadata": {},
   "outputs": [],
   "source": [
    "user_cnt = pd.DataFrame(df.groupby('userId').size(), columns=['cnt'])"
   ]
  },
  {
   "cell_type": "code",
   "execution_count": 18,
   "id": "e24fa092-c2ac-4362-a91a-19da0465d229",
   "metadata": {},
   "outputs": [
    {
     "data": {
      "text/html": [
       "<div>\n",
       "<style scoped>\n",
       "    .dataframe tbody tr th:only-of-type {\n",
       "        vertical-align: middle;\n",
       "    }\n",
       "\n",
       "    .dataframe tbody tr th {\n",
       "        vertical-align: top;\n",
       "    }\n",
       "\n",
       "    .dataframe thead th {\n",
       "        text-align: right;\n",
       "    }\n",
       "</style>\n",
       "<table border=\"1\" class=\"dataframe\">\n",
       "  <thead>\n",
       "    <tr style=\"text-align: right;\">\n",
       "      <th></th>\n",
       "      <th>cnt</th>\n",
       "    </tr>\n",
       "    <tr>\n",
       "      <th>userId</th>\n",
       "      <th></th>\n",
       "    </tr>\n",
       "  </thead>\n",
       "  <tbody>\n",
       "    <tr>\n",
       "      <th>1</th>\n",
       "      <td>175</td>\n",
       "    </tr>\n",
       "    <tr>\n",
       "      <th>2</th>\n",
       "      <td>61</td>\n",
       "    </tr>\n",
       "    <tr>\n",
       "      <th>3</th>\n",
       "      <td>187</td>\n",
       "    </tr>\n",
       "    <tr>\n",
       "      <th>4</th>\n",
       "      <td>28</td>\n",
       "    </tr>\n",
       "    <tr>\n",
       "      <th>5</th>\n",
       "      <td>66</td>\n",
       "    </tr>\n",
       "  </tbody>\n",
       "</table>\n",
       "</div>"
      ],
      "text/plain": [
       "        cnt\n",
       "userId     \n",
       "1       175\n",
       "2        61\n",
       "3       187\n",
       "4        28\n",
       "5        66"
      ]
     },
     "execution_count": 18,
     "metadata": {},
     "output_type": "execute_result"
    }
   ],
   "source": [
    "user_cnt.head()"
   ]
  },
  {
   "cell_type": "code",
   "execution_count": 42,
   "id": "7ffc4bf9-778c-49e9-9a5e-28ed7eaf3d19",
   "metadata": {},
   "outputs": [],
   "source": [
    "movie_cnt = pd.DataFrame(df.groupby('movieId').size(), columns=['cnt'])"
   ]
  },
  {
   "cell_type": "code",
   "execution_count": 72,
   "id": "4a5f2acd-96f5-4914-b2f2-9325473ca6ca",
   "metadata": {},
   "outputs": [],
   "source": [
    "movie_threshold = 300\n",
    "user_threshold = 200"
   ]
  },
  {
   "cell_type": "code",
   "execution_count": 73,
   "id": "7857cc69-b6ee-4d5e-adac-87e9ed4cb626",
   "metadata": {},
   "outputs": [],
   "source": [
    "popular_movies = list(set(movie_cnt.query('cnt >= @movie_threshold').index))"
   ]
  },
  {
   "cell_type": "code",
   "execution_count": 74,
   "id": "90e7f4b1-a2f5-4a79-81d1-760a840116ac",
   "metadata": {},
   "outputs": [],
   "source": [
    "active_users = list(set(user_cnt.query('cnt >= @user_threshold').index))"
   ]
  },
  {
   "cell_type": "code",
   "execution_count": 78,
   "id": "1c7b26e1-49aa-4cc4-b35f-611ad8eef8be",
   "metadata": {},
   "outputs": [],
   "source": [
    "df_drop_movies = df[df.movieId.isin(popular_movies)]"
   ]
  },
  {
   "cell_type": "code",
   "execution_count": 79,
   "id": "db74c48c-5036-4e01-82f2-371352128a0e",
   "metadata": {},
   "outputs": [],
   "source": [
    "df_clean = df_drop_movies[df_drop_movies['userId'].isin(active_users)]"
   ]
  },
  {
   "cell_type": "code",
   "execution_count": 80,
   "id": "0233ad44-fd21-47b6-90b6-7e1be04f9a81",
   "metadata": {},
   "outputs": [
    {
     "data": {
      "text/plain": [
       "(11788644, 3)"
      ]
     },
     "execution_count": 80,
     "metadata": {},
     "output_type": "execute_result"
    }
   ],
   "source": [
    "df_clean.shape"
   ]
  },
  {
   "cell_type": "code",
   "execution_count": 81,
   "id": "b4d217c8-8b84-44f2-b4af-dda9764aebe1",
   "metadata": {},
   "outputs": [
    {
     "data": {
      "text/html": [
       "<div>\n",
       "<style scoped>\n",
       "    .dataframe tbody tr th:only-of-type {\n",
       "        vertical-align: middle;\n",
       "    }\n",
       "\n",
       "    .dataframe tbody tr th {\n",
       "        vertical-align: top;\n",
       "    }\n",
       "\n",
       "    .dataframe thead th {\n",
       "        text-align: right;\n",
       "    }\n",
       "</style>\n",
       "<table border=\"1\" class=\"dataframe\">\n",
       "  <thead>\n",
       "    <tr style=\"text-align: right;\">\n",
       "      <th></th>\n",
       "      <th>userId</th>\n",
       "      <th>movieId</th>\n",
       "      <th>rating</th>\n",
       "    </tr>\n",
       "  </thead>\n",
       "  <tbody>\n",
       "    <tr>\n",
       "      <th>541</th>\n",
       "      <td>7</td>\n",
       "      <td>3</td>\n",
       "      <td>3.0</td>\n",
       "    </tr>\n",
       "    <tr>\n",
       "      <th>542</th>\n",
       "      <td>7</td>\n",
       "      <td>7</td>\n",
       "      <td>3.0</td>\n",
       "    </tr>\n",
       "    <tr>\n",
       "      <th>543</th>\n",
       "      <td>7</td>\n",
       "      <td>11</td>\n",
       "      <td>4.0</td>\n",
       "    </tr>\n",
       "    <tr>\n",
       "      <th>544</th>\n",
       "      <td>7</td>\n",
       "      <td>15</td>\n",
       "      <td>2.0</td>\n",
       "    </tr>\n",
       "    <tr>\n",
       "      <th>545</th>\n",
       "      <td>7</td>\n",
       "      <td>16</td>\n",
       "      <td>3.0</td>\n",
       "    </tr>\n",
       "  </tbody>\n",
       "</table>\n",
       "</div>"
      ],
      "text/plain": [
       "     userId  movieId  rating\n",
       "541       7        3     3.0\n",
       "542       7        7     3.0\n",
       "543       7       11     4.0\n",
       "544       7       15     2.0\n",
       "545       7       16     3.0"
      ]
     },
     "execution_count": 81,
     "metadata": {},
     "output_type": "execute_result"
    }
   ],
   "source": [
    "df_clean.head()"
   ]
  },
  {
   "cell_type": "code",
   "execution_count": 162,
   "id": "979fb63c-817a-45f9-be38-5a5e86f6e513",
   "metadata": {},
   "outputs": [],
   "source": [
    "movie_user_mat = df_clean.pivot(index='movieId', columns='userId', values='rating').fillna(0)"
   ]
  },
  {
   "cell_type": "code",
   "execution_count": 163,
   "id": "caa65fd7-a39d-4ea5-9239-a70be284e70d",
   "metadata": {},
   "outputs": [
    {
     "data": {
      "text/plain": [
       "(5726, 26826)"
      ]
     },
     "execution_count": 163,
     "metadata": {},
     "output_type": "execute_result"
    }
   ],
   "source": [
    "movie_user_mat.shape"
   ]
  },
  {
   "cell_type": "code",
   "execution_count": 164,
   "id": "3cfa598b-66ad-474f-9185-d00f8e1a6401",
   "metadata": {},
   "outputs": [],
   "source": [
    "from scipy.sparse import csr_matrix\n",
    "from sklearn.neighbors import NearestNeighbors"
   ]
  },
  {
   "cell_type": "code",
   "execution_count": 165,
   "id": "0119c619-b2f7-48d6-b398-a3571e25c712",
   "metadata": {},
   "outputs": [],
   "source": [
    "movie_user_mat_sparse = csr_matrix(movie_user_mat.values)"
   ]
  },
  {
   "cell_type": "code",
   "execution_count": 166,
   "id": "ca3298aa-c291-4ff8-ac30-993947dff746",
   "metadata": {},
   "outputs": [],
   "source": [
    "model_knn = NearestNeighbors(metric='cosine', n_neighbors=25, n_jobs=-1)"
   ]
  },
  {
   "cell_type": "code",
   "execution_count": 167,
   "id": "a09af601-ee86-45d3-8cf5-a9f1c6814579",
   "metadata": {},
   "outputs": [
    {
     "data": {
      "text/html": [
       "<style>#sk-container-id-2 {color: black;}#sk-container-id-2 pre{padding: 0;}#sk-container-id-2 div.sk-toggleable {background-color: white;}#sk-container-id-2 label.sk-toggleable__label {cursor: pointer;display: block;width: 100%;margin-bottom: 0;padding: 0.3em;box-sizing: border-box;text-align: center;}#sk-container-id-2 label.sk-toggleable__label-arrow:before {content: \"▸\";float: left;margin-right: 0.25em;color: #696969;}#sk-container-id-2 label.sk-toggleable__label-arrow:hover:before {color: black;}#sk-container-id-2 div.sk-estimator:hover label.sk-toggleable__label-arrow:before {color: black;}#sk-container-id-2 div.sk-toggleable__content {max-height: 0;max-width: 0;overflow: hidden;text-align: left;background-color: #f0f8ff;}#sk-container-id-2 div.sk-toggleable__content pre {margin: 0.2em;color: black;border-radius: 0.25em;background-color: #f0f8ff;}#sk-container-id-2 input.sk-toggleable__control:checked~div.sk-toggleable__content {max-height: 200px;max-width: 100%;overflow: auto;}#sk-container-id-2 input.sk-toggleable__control:checked~label.sk-toggleable__label-arrow:before {content: \"▾\";}#sk-container-id-2 div.sk-estimator input.sk-toggleable__control:checked~label.sk-toggleable__label {background-color: #d4ebff;}#sk-container-id-2 div.sk-label input.sk-toggleable__control:checked~label.sk-toggleable__label {background-color: #d4ebff;}#sk-container-id-2 input.sk-hidden--visually {border: 0;clip: rect(1px 1px 1px 1px);clip: rect(1px, 1px, 1px, 1px);height: 1px;margin: -1px;overflow: hidden;padding: 0;position: absolute;width: 1px;}#sk-container-id-2 div.sk-estimator {font-family: monospace;background-color: #f0f8ff;border: 1px dotted black;border-radius: 0.25em;box-sizing: border-box;margin-bottom: 0.5em;}#sk-container-id-2 div.sk-estimator:hover {background-color: #d4ebff;}#sk-container-id-2 div.sk-parallel-item::after {content: \"\";width: 100%;border-bottom: 1px solid gray;flex-grow: 1;}#sk-container-id-2 div.sk-label:hover label.sk-toggleable__label {background-color: #d4ebff;}#sk-container-id-2 div.sk-serial::before {content: \"\";position: absolute;border-left: 1px solid gray;box-sizing: border-box;top: 0;bottom: 0;left: 50%;z-index: 0;}#sk-container-id-2 div.sk-serial {display: flex;flex-direction: column;align-items: center;background-color: white;padding-right: 0.2em;padding-left: 0.2em;position: relative;}#sk-container-id-2 div.sk-item {position: relative;z-index: 1;}#sk-container-id-2 div.sk-parallel {display: flex;align-items: stretch;justify-content: center;background-color: white;position: relative;}#sk-container-id-2 div.sk-item::before, #sk-container-id-2 div.sk-parallel-item::before {content: \"\";position: absolute;border-left: 1px solid gray;box-sizing: border-box;top: 0;bottom: 0;left: 50%;z-index: -1;}#sk-container-id-2 div.sk-parallel-item {display: flex;flex-direction: column;z-index: 1;position: relative;background-color: white;}#sk-container-id-2 div.sk-parallel-item:first-child::after {align-self: flex-end;width: 50%;}#sk-container-id-2 div.sk-parallel-item:last-child::after {align-self: flex-start;width: 50%;}#sk-container-id-2 div.sk-parallel-item:only-child::after {width: 0;}#sk-container-id-2 div.sk-dashed-wrapped {border: 1px dashed gray;margin: 0 0.4em 0.5em 0.4em;box-sizing: border-box;padding-bottom: 0.4em;background-color: white;}#sk-container-id-2 div.sk-label label {font-family: monospace;font-weight: bold;display: inline-block;line-height: 1.2em;}#sk-container-id-2 div.sk-label-container {text-align: center;}#sk-container-id-2 div.sk-container {/* jupyter's `normalize.less` sets `[hidden] { display: none; }` but bootstrap.min.css set `[hidden] { display: none !important; }` so we also need the `!important` here to be able to override the default hidden behavior on the sphinx rendered scikit-learn.org. See: https://github.com/scikit-learn/scikit-learn/issues/21755 */display: inline-block !important;position: relative;}#sk-container-id-2 div.sk-text-repr-fallback {display: none;}</style><div id=\"sk-container-id-2\" class=\"sk-top-container\"><div class=\"sk-text-repr-fallback\"><pre>NearestNeighbors(metric=&#x27;cosine&#x27;, n_jobs=-1, n_neighbors=25)</pre><b>In a Jupyter environment, please rerun this cell to show the HTML representation or trust the notebook. <br />On GitHub, the HTML representation is unable to render, please try loading this page with nbviewer.org.</b></div><div class=\"sk-container\" hidden><div class=\"sk-item\"><div class=\"sk-estimator sk-toggleable\"><input class=\"sk-toggleable__control sk-hidden--visually\" id=\"sk-estimator-id-2\" type=\"checkbox\" checked><label for=\"sk-estimator-id-2\" class=\"sk-toggleable__label sk-toggleable__label-arrow\">NearestNeighbors</label><div class=\"sk-toggleable__content\"><pre>NearestNeighbors(metric=&#x27;cosine&#x27;, n_jobs=-1, n_neighbors=25)</pre></div></div></div></div></div>"
      ],
      "text/plain": [
       "NearestNeighbors(metric='cosine', n_jobs=-1, n_neighbors=25)"
      ]
     },
     "execution_count": 167,
     "metadata": {},
     "output_type": "execute_result"
    }
   ],
   "source": [
    "model_knn.fit(movie_user_mat_sparse)"
   ]
  },
  {
   "cell_type": "code",
   "execution_count": 194,
   "id": "2fac2ff5-4453-4616-a058-ab80370bf478",
   "metadata": {},
   "outputs": [],
   "source": [
    "movie_to_idx = {}\n",
    "idx_to_movie = {}"
   ]
  },
  {
   "cell_type": "code",
   "execution_count": 200,
   "id": "bf498fc9-e922-4717-a3fd-9575942ccdcc",
   "metadata": {},
   "outputs": [
    {
     "data": {
      "text/plain": [
       "title    Specialist, The (1994)\n",
       "Name: 315, dtype: object"
      ]
     },
     "execution_count": 200,
     "metadata": {},
     "output_type": "execute_result"
    }
   ],
   "source": [
    "df_movies.loc[]"
   ]
  },
  {
   "cell_type": "code",
   "execution_count": 195,
   "id": "cde0995e-7b94-4307-8923-de3b431fc173",
   "metadata": {},
   "outputs": [],
   "source": [
    "for i in df_movies.index:\n",
    "    idx_to_movie[i] = df_movies.loc[i, 'title'][:-7]"
   ]
  },
  {
   "cell_type": "code",
   "execution_count": 197,
   "id": "a23b7350-da15-4918-b9a9-d7f3b895efe7",
   "metadata": {},
   "outputs": [],
   "source": [
    "for i in movie_to_idx:\n",
    "    if i == 'Shawshank Redemption':\n",
    "        print(i, movie_to_idx[i])"
   ]
  },
  {
   "cell_type": "code",
   "execution_count": 196,
   "id": "10eb0277-b999-415c-81c8-171dea486235",
   "metadata": {},
   "outputs": [],
   "source": [
    "movie_to_idx = {v: k for  k, v in idx_to_movie.items()}"
   ]
  },
  {
   "cell_type": "code",
   "execution_count": 216,
   "id": "4ed14085-9cdb-4cee-8c50-aa13c745c6d1",
   "metadata": {},
   "outputs": [],
   "source": [
    "from thefuzz import fuzz"
   ]
  },
  {
   "cell_type": "code",
   "execution_count": 217,
   "id": "81698ead-5389-4be2-a886-3e18ce7b2295",
   "metadata": {},
   "outputs": [],
   "source": [
    "def matching_the_movie(movie):\n",
    "    match = []\n",
    "    for title, idx in movie_to_idx.items():\n",
    "        ratio = fuzz.ratio(title.lower(), movie.lower())\n",
    "        if ratio >= 60:\n",
    "            match.append((title, idx, ratio))\n",
    "\n",
    "    match = sorted(match, key=lambda x: x[2])[::-1]\n",
    "\n",
    "    if not match:\n",
    "        return -1\n",
    "    return match[0][1]\n"
   ]
  },
  {
   "cell_type": "code",
   "execution_count": 225,
   "id": "19f66c41-a635-4837-bd4b-493b3be0e478",
   "metadata": {},
   "outputs": [],
   "source": [
    "def make_recommentations(data, movie):\n",
    "    model_knn.fit(data)\n",
    "    idx = matching_the_movie(movie)\n",
    "\n",
    "    dist, ind = model_knn.kneighbors(data[idx], n_neighbors=15)\n",
    "\n",
    "    recommends = sorted(list(zip(ind.squeeze().tolist(), dist.squeeze().tolist())), key = lambda x: x[1])[:0:-1]\n",
    "\n",
    "    for i, (index, dist) in enumerate(recommends):\n",
    "        print(f'{i+1}: {idx_to_movie[index]}, distance = {dist}')\n"
   ]
  },
  {
   "cell_type": "code",
   "execution_count": 227,
   "id": "e4dd166d-29dc-48c4-81f1-407601187cb8",
   "metadata": {},
   "outputs": [
    {
     "name": "stdout",
     "output_type": "stream",
     "text": [
      "1: Kiss of Death, distance = 0.8458416829447526\n",
      "2: Davy Crockett, King of the Wild Frontier, distance = 0.8454003857935992\n",
      "3: E.T. the Extra-Terrestrial, distance = 0.8432470558048535\n",
      "4: Just Cause, distance = 0.8396756800230524\n",
      "5: Kiss of the Dragon, distance = 0.8373982176486725\n",
      "6: Kid in King Arthur's Court, A, distance = 0.8352106900814616\n",
      "7: King Creole, distance = 0.8302100797016261\n",
      "8: Dingo, distance = 0.827171478166308\n",
      "9: Perez Family, The, distance = 0.8190524687396645\n",
      "10: Dirty Work, distance = 0.8109718296226611\n",
      "11: Lady Vanishes, The, distance = 0.7963506231852329\n",
      "12: Ref, The, distance = 0.7529243792999439\n",
      "13: Small Faces, distance = 0.7429853226797964\n",
      "14: Pink Floyd: The Wall, distance = 0.7298398678710138\n"
     ]
    }
   ],
   "source": [
    "make_recommentations(movie_user_mat_sparse, 'Jurassic Park')"
   ]
  },
  {
   "cell_type": "code",
   "execution_count": 206,
   "id": "3ec3ec93-a2cc-4193-89bb-e60d60570a90",
   "metadata": {},
   "outputs": [],
   "source": [
    "df_movies = pd.read_csv('./data/archive/movie.csv')"
   ]
  },
  {
   "cell_type": "code",
   "execution_count": 208,
   "id": "b100f668-f775-41d1-afd1-578a638466ae",
   "metadata": {},
   "outputs": [],
   "source": [
    "df_movies = df_movies.drop(['genres'], axis=1)"
   ]
  },
  {
   "cell_type": "code",
   "execution_count": 209,
   "id": "30e20bdb-8330-4c15-9f6f-f0aeaa498e5f",
   "metadata": {},
   "outputs": [],
   "source": [
    "df_movies.set_index('movieId', inplace=True)"
   ]
  },
  {
   "cell_type": "code",
   "execution_count": 187,
   "id": "e50f44a6-fb73-4557-8da0-ab50849d6c62",
   "metadata": {},
   "outputs": [
    {
     "data": {
      "text/html": [
       "<div>\n",
       "<style scoped>\n",
       "    .dataframe tbody tr th:only-of-type {\n",
       "        vertical-align: middle;\n",
       "    }\n",
       "\n",
       "    .dataframe tbody tr th {\n",
       "        vertical-align: top;\n",
       "    }\n",
       "\n",
       "    .dataframe thead th {\n",
       "        text-align: right;\n",
       "    }\n",
       "</style>\n",
       "<table border=\"1\" class=\"dataframe\">\n",
       "  <thead>\n",
       "    <tr style=\"text-align: right;\">\n",
       "      <th></th>\n",
       "      <th>title</th>\n",
       "    </tr>\n",
       "    <tr>\n",
       "      <th>movieId</th>\n",
       "      <th></th>\n",
       "    </tr>\n",
       "  </thead>\n",
       "  <tbody>\n",
       "    <tr>\n",
       "      <th>1</th>\n",
       "      <td>Toy Story (1995)</td>\n",
       "    </tr>\n",
       "    <tr>\n",
       "      <th>2</th>\n",
       "      <td>Jumanji (1995)</td>\n",
       "    </tr>\n",
       "    <tr>\n",
       "      <th>3</th>\n",
       "      <td>Grumpier Old Men (1995)</td>\n",
       "    </tr>\n",
       "    <tr>\n",
       "      <th>4</th>\n",
       "      <td>Waiting to Exhale (1995)</td>\n",
       "    </tr>\n",
       "    <tr>\n",
       "      <th>5</th>\n",
       "      <td>Father of the Bride Part II (1995)</td>\n",
       "    </tr>\n",
       "  </tbody>\n",
       "</table>\n",
       "</div>"
      ],
      "text/plain": [
       "                                      title\n",
       "movieId                                    \n",
       "1                          Toy Story (1995)\n",
       "2                            Jumanji (1995)\n",
       "3                   Grumpier Old Men (1995)\n",
       "4                  Waiting to Exhale (1995)\n",
       "5        Father of the Bride Part II (1995)"
      ]
     },
     "execution_count": 187,
     "metadata": {},
     "output_type": "execute_result"
    }
   ],
   "source": [
    "df_movies.head()"
   ]
  }
 ],
 "metadata": {
  "kernelspec": {
   "display_name": "Python 3 (ipykernel)",
   "language": "python",
   "name": "python3"
  },
  "language_info": {
   "codemirror_mode": {
    "name": "ipython",
    "version": 3
   },
   "file_extension": ".py",
   "mimetype": "text/x-python",
   "name": "python",
   "nbconvert_exporter": "python",
   "pygments_lexer": "ipython3",
   "version": "3.11.7"
  }
 },
 "nbformat": 4,
 "nbformat_minor": 5
}
